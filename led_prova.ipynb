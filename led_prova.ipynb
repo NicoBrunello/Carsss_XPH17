{
 "cells": [
  {
   "cell_type": "code",
   "execution_count": 5,
   "metadata": {
    "collapsed": false
   },
   "outputs": [
    {
     "name": "stdout",
     "output_type": "stream",
     "text": [
      "Hello, this is CARSSS, you are going to take a alcohol test level!\n",
      "Please, press Pynq button BTN0 and the countdown (4,3,2,1) is going to start...\n"
     ]
    }
   ],
   "source": [
    "from pynq.board import LED,Button,RGBLED \n",
    "import time\n",
    "rgbleds=[RGBLED(index) for index in [4,5]]\n",
    "def TestTot():\n",
    "    count=0\n",
    "    color0=0\n",
    "    color1=0\n",
    "    temp=1\n",
    "    #Starting button \n",
    "    print('Hello, this is CARSSS, you are going to take a alcohol test level!')\n",
    "    print('Please, press Pynq button BTN0 and the countdown (4,3,2,1) is going to start...')\n",
    "    while(temp):\n",
    "        button=Button(0)\n",
    "        if button.read(): \n",
    "            temp=0\n",
    "    #Countdown led\n",
    "    while(count<4):\n",
    "        start=time.time()\n",
    "        led=LED(count)\n",
    "        led.on()\n",
    "        time.sleep(1)\n",
    "        led.off()\n",
    "        count=count+1\n",
    "    end=time.time()\n",
    "    #Photo \n",
    "    #\n",
    "    #\n",
    "    #\n",
    "    #\n",
    "    #Flow  test\n",
    "    #\n",
    "    #\n",
    "    #\n",
    "    #Blow test \n",
    "    #\n",
    "    #\n",
    "    #\n",
    "    #Color led\n",
    "    start=time.time()\n",
    "    color0=2\n",
    "    rgbleds[0].write(color0)\n",
    "    color1=4\n",
    "    rgbleds[1].write(color1)\n",
    "    time.sleep(3)\n",
    "    rgbleds[0].off()\n",
    "    rgbleds[1].off()\n",
    "    end=time.time()\n",
    "\n",
    "\n",
    "TestTot()\n"
   ]
  },
  {
   "cell_type": "code",
   "execution_count": null,
   "metadata": {
    "collapsed": true
   },
   "outputs": [],
   "source": []
  },
  {
   "cell_type": "code",
   "execution_count": null,
   "metadata": {
    "collapsed": true
   },
   "outputs": [],
   "source": []
  },
  {
   "cell_type": "code",
   "execution_count": null,
   "metadata": {
    "collapsed": true
   },
   "outputs": [],
   "source": []
  },
  {
   "cell_type": "code",
   "execution_count": null,
   "metadata": {
    "collapsed": true
   },
   "outputs": [],
   "source": []
  }
 ],
 "metadata": {
  "kernelspec": {
   "display_name": "Python 3",
   "language": "python",
   "name": "python3"
  },
  "language_info": {
   "codemirror_mode": {
    "name": "ipython",
    "version": 3
   },
   "file_extension": ".py",
   "mimetype": "text/x-python",
   "name": "python",
   "nbconvert_exporter": "python",
   "pygments_lexer": "ipython3",
   "version": "3.4.3+"
  }
 },
 "nbformat": 4,
 "nbformat_minor": 1
}
